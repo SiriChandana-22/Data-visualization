{
 "cells": [
  {
   "cell_type": "code",
   "execution_count": 1,
   "id": "b35c6a5e-c683-40ec-a38d-aa8399c93199",
   "metadata": {},
   "outputs": [],
   "source": [
    "import pandas as pd"
   ]
  },
  {
   "cell_type": "code",
   "execution_count": 5,
   "id": "6e42b9b2-44c2-473e-a242-36e3a742c84c",
   "metadata": {},
   "outputs": [],
   "source": [
    "from matplotlib import pyplot as plot #library used for Data Visualization"
   ]
  },
  {
   "cell_type": "code",
   "execution_count": 7,
   "id": "e537234d-2a61-4a3b-9be4-6f6cd12bbd8a",
   "metadata": {},
   "outputs": [],
   "source": [
    "Museum_visitors = pd.read_csv (\"C:\\\\Users\\\\sriva\\\\OneDrive\\\\Desktop\\\\Museum_visitors.csv\") #path of file"
   ]
  },
  {
   "cell_type": "code",
   "execution_count": 9,
   "id": "c07aed12-0771-4936-838f-2501037273d3",
   "metadata": {},
   "outputs": [
    {
     "name": "stdout",
     "output_type": "stream",
     "text": [
      "          Date  Avila Adobe  Firehouse Museum  Chinese American Museum  \\\n",
      "0   01-01-2014        24778              4486                     1581   \n",
      "1   01-02-2014        18976              4172                     1785   \n",
      "2   01-03-2014        25231              7082                     3229   \n",
      "3   01-04-2014        26989              6756                     2129   \n",
      "4   01-05-2014        36883             10858                     3676   \n",
      "5   01-06-2014        29487              5751                     2121   \n",
      "6   01-07-2014        32378              5406                     2239   \n",
      "7   01-08-2014        37680              8619                     1769   \n",
      "8   01-09-2014        28473             61192                     1073   \n",
      "9   01-10-2014        27995              6488                     1979   \n",
      "10  01-11-2014        25691              4189                     2404   \n",
      "11  01-12-2014        18754              4339                     1319   \n",
      "12  01-01-2015        20438              3858                     1823   \n",
      "13  01-02-2015        15578              3742                     1558   \n",
      "14  01-03-2015        21297              5390                     2336   \n",
      "15  01-04-2015        26670              7000                     3057   \n",
      "16  01-05-2015        34383             12528                     4009   \n",
      "17  01-06-2015        30569              5377                     2544   \n",
      "18  01-07-2015        41242              6111                     3057   \n",
      "19  01-08-2015        30700              5383                     2415   \n",
      "20  01-09-2015        20967              5746                     1398   \n",
      "21  01-10-2015        29764              8882                     2237   \n",
      "22  01-11-2015        24483              6848                     2850   \n",
      "23  01-12-2015        21426              4502                     2075   \n",
      "24  01-01-2016        19659              4377                     2150   \n",
      "25  01-02-2016        17378              3675                     2547   \n",
      "26  01-03-2016        20322              6334                     7702   \n",
      "27  01-04-2016        24521              6509                     3485   \n",
      "28  01-05-2016        31728              9315                     4565   \n",
      "29  01-06-2016        23696              4918                     3034   \n",
      "30  01-07-2016        31689              5602                     2776   \n",
      "31  01-08-2016        25987              5181                     2153   \n",
      "32  01-09-2016        22897              4736                     1754   \n",
      "33  01-10-2016        25040              6145                     2607   \n",
      "34  01-11-2016        17760              3930                     2248   \n",
      "35  01-12-2016        20107              3911                     2263   \n",
      "36  01-01-2017        18792              3551                     2531   \n",
      "37  01-02-2017        14035              3491                     2139   \n",
      "38  01-03-2017        20680              5273                     5966   \n",
      "39  01-04-2017        25234              5320                     3273   \n",
      "40  01-05-2017        30029              8733                     5585   \n",
      "41  01-06-2017        22169              4862                     2946   \n",
      "42  01-07-2017        30831              5242                     2939   \n",
      "43  01-08-2017        27009              5379                     1784   \n",
      "44  01-09-2017        23403              4484                     1704   \n",
      "45  01-10-2017        22164              4822                     2419   \n",
      "46  01-11-2017        17629              4613                     2685   \n",
      "47  01-12-2017        18339              4448                     2768   \n",
      "48  01-01-2018        16265              3910                     2477   \n",
      "49  01-02-2018        14718              3306                     2710   \n",
      "50  01-03-2018        19001              5225                     4529   \n",
      "51  01-04-2018        18966              4535                     2750   \n",
      "52  01-05-2018        25173              8013                     4960   \n",
      "53  01-06-2018        22171              4635                     2518   \n",
      "54  01-07-2018        23136              4191                     2620   \n",
      "55  01-08-2018        20815              4866                     2409   \n",
      "56  01-09-2018        21020              4956                     2146   \n",
      "57  01-10-2018        19280              4622                     2364   \n",
      "58  01-11-2018        17163              4082                     2385   \n",
      "\n",
      "    America Tropical Interpretive Center  \n",
      "0                                   6602  \n",
      "1                                   5029  \n",
      "2                                   8129  \n",
      "3                                   2824  \n",
      "4                                  10694  \n",
      "5                                  11036  \n",
      "6                                  13490  \n",
      "7                                   9139  \n",
      "8                                   5661  \n",
      "9                                   7356  \n",
      "10                                  9773  \n",
      "11                                  7184  \n",
      "12                                  6250  \n",
      "13                                  5907  \n",
      "14                                  9884  \n",
      "15                                  7254  \n",
      "16                                 13207  \n",
      "17                                 11102  \n",
      "18                                 11072  \n",
      "19                                 12096  \n",
      "20                                  6608  \n",
      "21                                 12524  \n",
      "22                                  6677  \n",
      "23                                  5967  \n",
      "24                                  6587  \n",
      "25                                  6955  \n",
      "26                                  9979  \n",
      "27                                  5113  \n",
      "28                                  7757  \n",
      "29                                  6751  \n",
      "30                                 12188  \n",
      "31                                  6245  \n",
      "32                                  6977  \n",
      "33                                  6282  \n",
      "34                                  6365  \n",
      "35                                  5223  \n",
      "36                                  4929  \n",
      "37                                  4493  \n",
      "38                                  6271  \n",
      "39                                  6685  \n",
      "40                                  7556  \n",
      "41                                  6818  \n",
      "42                                  8675  \n",
      "43                                  6212  \n",
      "44                                  4607  \n",
      "45                                  6097  \n",
      "46                                  6757  \n",
      "47                                  6780  \n",
      "48                                  5837  \n",
      "49                                  5705  \n",
      "50                                  4909  \n",
      "51                                  4650  \n",
      "52                                  5626  \n",
      "53                                  4694  \n",
      "54                                  4718  \n",
      "55                                  3891  \n",
      "56                                  3180  \n",
      "57                                  3775  \n",
      "58                                  4562  \n"
     ]
    }
   ],
   "source": [
    "print (Museum_visitors) #printing the data"
   ]
  },
  {
   "cell_type": "code",
   "execution_count": 107,
   "id": "9aee62a7-df77-45d3-b6a3-bbc893c7bade",
   "metadata": {},
   "outputs": [
    {
     "data": {
      "text/html": [
       "<div>\n",
       "<style scoped>\n",
       "    .dataframe tbody tr th:only-of-type {\n",
       "        vertical-align: middle;\n",
       "    }\n",
       "\n",
       "    .dataframe tbody tr th {\n",
       "        vertical-align: top;\n",
       "    }\n",
       "\n",
       "    .dataframe thead th {\n",
       "        text-align: right;\n",
       "    }\n",
       "</style>\n",
       "<table border=\"1\" class=\"dataframe\">\n",
       "  <thead>\n",
       "    <tr style=\"text-align: right;\">\n",
       "      <th></th>\n",
       "      <th>Date</th>\n",
       "      <th>Avila Adobe</th>\n",
       "      <th>Firehouse Museum</th>\n",
       "      <th>Chinese American Museum</th>\n",
       "      <th>America Tropical Interpretive Center</th>\n",
       "    </tr>\n",
       "  </thead>\n",
       "  <tbody>\n",
       "    <tr>\n",
       "      <th>0</th>\n",
       "      <td>01-01-2014</td>\n",
       "      <td>24778</td>\n",
       "      <td>4486</td>\n",
       "      <td>1581</td>\n",
       "      <td>6602</td>\n",
       "    </tr>\n",
       "    <tr>\n",
       "      <th>1</th>\n",
       "      <td>01-02-2014</td>\n",
       "      <td>18976</td>\n",
       "      <td>4172</td>\n",
       "      <td>1785</td>\n",
       "      <td>5029</td>\n",
       "    </tr>\n",
       "    <tr>\n",
       "      <th>2</th>\n",
       "      <td>01-03-2014</td>\n",
       "      <td>25231</td>\n",
       "      <td>7082</td>\n",
       "      <td>3229</td>\n",
       "      <td>8129</td>\n",
       "    </tr>\n",
       "    <tr>\n",
       "      <th>3</th>\n",
       "      <td>01-04-2014</td>\n",
       "      <td>26989</td>\n",
       "      <td>6756</td>\n",
       "      <td>2129</td>\n",
       "      <td>2824</td>\n",
       "    </tr>\n",
       "    <tr>\n",
       "      <th>4</th>\n",
       "      <td>01-05-2014</td>\n",
       "      <td>36883</td>\n",
       "      <td>10858</td>\n",
       "      <td>3676</td>\n",
       "      <td>10694</td>\n",
       "    </tr>\n",
       "    <tr>\n",
       "      <th>5</th>\n",
       "      <td>01-06-2014</td>\n",
       "      <td>29487</td>\n",
       "      <td>5751</td>\n",
       "      <td>2121</td>\n",
       "      <td>11036</td>\n",
       "    </tr>\n",
       "    <tr>\n",
       "      <th>6</th>\n",
       "      <td>01-07-2014</td>\n",
       "      <td>32378</td>\n",
       "      <td>5406</td>\n",
       "      <td>2239</td>\n",
       "      <td>13490</td>\n",
       "    </tr>\n",
       "    <tr>\n",
       "      <th>7</th>\n",
       "      <td>01-08-2014</td>\n",
       "      <td>37680</td>\n",
       "      <td>8619</td>\n",
       "      <td>1769</td>\n",
       "      <td>9139</td>\n",
       "    </tr>\n",
       "    <tr>\n",
       "      <th>8</th>\n",
       "      <td>01-09-2014</td>\n",
       "      <td>28473</td>\n",
       "      <td>61192</td>\n",
       "      <td>1073</td>\n",
       "      <td>5661</td>\n",
       "    </tr>\n",
       "    <tr>\n",
       "      <th>9</th>\n",
       "      <td>01-10-2014</td>\n",
       "      <td>27995</td>\n",
       "      <td>6488</td>\n",
       "      <td>1979</td>\n",
       "      <td>7356</td>\n",
       "    </tr>\n",
       "  </tbody>\n",
       "</table>\n",
       "</div>"
      ],
      "text/plain": [
       "         Date  Avila Adobe  Firehouse Museum  Chinese American Museum  \\\n",
       "0  01-01-2014        24778              4486                     1581   \n",
       "1  01-02-2014        18976              4172                     1785   \n",
       "2  01-03-2014        25231              7082                     3229   \n",
       "3  01-04-2014        26989              6756                     2129   \n",
       "4  01-05-2014        36883             10858                     3676   \n",
       "5  01-06-2014        29487              5751                     2121   \n",
       "6  01-07-2014        32378              5406                     2239   \n",
       "7  01-08-2014        37680              8619                     1769   \n",
       "8  01-09-2014        28473             61192                     1073   \n",
       "9  01-10-2014        27995              6488                     1979   \n",
       "\n",
       "   America Tropical Interpretive Center  \n",
       "0                                  6602  \n",
       "1                                  5029  \n",
       "2                                  8129  \n",
       "3                                  2824  \n",
       "4                                 10694  \n",
       "5                                 11036  \n",
       "6                                 13490  \n",
       "7                                  9139  \n",
       "8                                  5661  \n",
       "9                                  7356  "
      ]
     },
     "execution_count": 107,
     "metadata": {},
     "output_type": "execute_result"
    }
   ],
   "source": [
    "Museum_visitors.head(10) #first 10 rows in dataframe"
   ]
  },
  {
   "cell_type": "code",
   "execution_count": 37,
   "id": "7fe2154f-01fa-4a24-8611-cffbd8dc322b",
   "metadata": {},
   "outputs": [
    {
     "name": "stdout",
     "output_type": "stream",
     "text": [
      "         Date  Avila Adobe  Firehouse Museum  Chinese American Museum  \\\n",
      "0  01-01-2014        24778              4486                     1581   \n",
      "\n",
      "   America Tropical Interpretive Center  \n",
      "0                                  6602  \n"
     ]
    }
   ],
   "source": [
    "S1 = Museum_visitors.head (1)\n",
    "print (S1)"
   ]
  },
  {
   "cell_type": "code",
   "execution_count": 61,
   "id": "7c5db336-6faa-4105-aaf7-0865a1fde4f6",
   "metadata": {},
   "outputs": [
    {
     "data": {
      "text/plain": [
       "(array([[1., 0., 0., 0., 0., 0., 0., 0., 0., 0.],\n",
       "        [0., 0., 0., 0., 0., 0., 0., 0., 0., 1.],\n",
       "        [0., 1., 0., 0., 0., 0., 0., 0., 0., 0.],\n",
       "        [1., 0., 0., 0., 0., 0., 0., 0., 0., 0.],\n",
       "        [0., 0., 1., 0., 0., 0., 0., 0., 0., 0.]]),\n",
       " array([    0. ,  2477.8,  4955.6,  7433.4,  9911.2, 12389. , 14866.8,\n",
       "        17344.6, 19822.4, 22300.2, 24778. ]),\n",
       " <a list of 5 BarContainer objects>)"
      ]
     },
     "execution_count": 61,
     "metadata": {},
     "output_type": "execute_result"
    },
    {
     "data": {
      "image/png": "[encoded data removed]",
      "text/plain": [
       "<Figure size 640x480 with 1 Axes>"
      ]
     },
     "metadata": {},
     "output_type": "display_data"
    }
   ],
   "source": [
    "#Visualization of all columns in 1st row\n",
    "plot.hist(S1)"
   ]
  },
  {
   "cell_type": "code",
   "execution_count": 81,
   "id": "03429ea9-ae7d-46b3-9333-bd9df23d6242",
   "metadata": {},
   "outputs": [
    {
     "name": "stdout",
     "output_type": "stream",
     "text": [
      "0    4486\n",
      "1    4172\n",
      "2    7082\n",
      "3    6756\n",
      "Name: Firehouse Museum, dtype: int64\n"
     ]
    }
   ],
   "source": [
    "#Data of one coloumn top 4 \n",
    "n=4\n",
    "Series = Museum_visitors['Firehouse Museum']\n",
    "top = Series.head(n=n)\n",
    "print (top)"
   ]
  },
  {
   "cell_type": "code",
   "execution_count": 95,
   "id": "1ab49dc6-fb2c-4bb4-8c3b-ee317f4ebed9",
   "metadata": {},
   "outputs": [
    {
     "data": {
      "text/plain": [
       "([<matplotlib.patches.Wedge at 0x209eae59f50>,\n",
       "  <matplotlib.patches.Wedge at 0x209eaeed710>,\n",
       "  <matplotlib.patches.Wedge at 0x209eaeee750>,\n",
       "  <matplotlib.patches.Wedge at 0x209eaeef650>],\n",
       " [Text(0.9721189765591216, 0.7035514873935285, 'Day1'),\n",
       "  Text(-0.2904820790451747, 1.071317022059107, 'Day2'),\n",
       "  Text(-1.0710732473908, -0.2913796470650044, 'Day3'),\n",
       "  Text(0.6515383567833677, -0.8986644366169328, 'Day4')])"
      ]
     },
     "execution_count": 95,
     "metadata": {},
     "output_type": "execute_result"
    },
    {
     "data": {
      "image/png": "[encoded data removed]",
      "text/plain": [
       "<Figure size 640x480 with 1 Axes>"
      ]
     },
     "metadata": {},
     "output_type": "display_data"
    }
   ],
   "source": [
    "#Data Visualization of Firehouse museum 1st 4 values\n",
    "plot.pie (top,explode = (0.1,0.01,0.01,0.01),labels = ['Day1','Day2','Day3','Day4'])#explode can help to highlight the area we are looking for"
   ]
  },
  {
   "cell_type": "code",
   "execution_count": null,
   "id": "459ca487-4a88-4e95-9dce-6e45150ac113",
   "metadata": {},
   "outputs": [],
   "source": []
  }
 ],
 "metadata": {
  "kernelspec": {
   "display_name": "Python 3 (ipykernel)",
   "language": "python",
   "name": "python3"
  },
  "language_info": {
   "codemirror_mode": {
    "name": "ipython",
    "version": 3
   },
   "file_extension": ".py",
   "mimetype": "text/x-python",
   "name": "python",
   "nbconvert_exporter": "python",
   "pygments_lexer": "ipython3",
   "version": "3.11.7"
  }
 },
 "nbformat": 4,
 "nbformat_minor": 5
}
